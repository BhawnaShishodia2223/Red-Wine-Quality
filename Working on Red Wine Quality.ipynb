{
 "cells": [
  {
   "cell_type": "code",
   "execution_count": 1,
   "metadata": {},
   "outputs": [],
   "source": [
    "import pandas as pd\n",
    "import numpy as np"
   ]
  },
  {
   "cell_type": "code",
   "execution_count": 2,
   "metadata": {},
   "outputs": [],
   "source": [
    "WineData = pd.read_csv(\"red-wine-quality.csv\")"
   ]
  },
  {
   "cell_type": "code",
   "execution_count": 3,
   "metadata": {},
   "outputs": [
    {
     "data": {
      "text/html": [
       "<div>\n",
       "<style scoped>\n",
       "    .dataframe tbody tr th:only-of-type {\n",
       "        vertical-align: middle;\n",
       "    }\n",
       "\n",
       "    .dataframe tbody tr th {\n",
       "        vertical-align: top;\n",
       "    }\n",
       "\n",
       "    .dataframe thead th {\n",
       "        text-align: right;\n",
       "    }\n",
       "</style>\n",
       "<table border=\"1\" class=\"dataframe\">\n",
       "  <thead>\n",
       "    <tr style=\"text-align: right;\">\n",
       "      <th></th>\n",
       "      <th>fixed acidity</th>\n",
       "      <th>volatile acidity</th>\n",
       "      <th>citric acid</th>\n",
       "      <th>residual sugar</th>\n",
       "      <th>chlorides</th>\n",
       "      <th>free sulfur dioxide</th>\n",
       "      <th>total sulfur dioxide</th>\n",
       "      <th>density</th>\n",
       "      <th>pH</th>\n",
       "      <th>sulphates</th>\n",
       "      <th>alcohol</th>\n",
       "      <th>quality</th>\n",
       "    </tr>\n",
       "  </thead>\n",
       "  <tbody>\n",
       "    <tr>\n",
       "      <th>0</th>\n",
       "      <td>7.4</td>\n",
       "      <td>0.70</td>\n",
       "      <td>0.00</td>\n",
       "      <td>1.9</td>\n",
       "      <td>0.076</td>\n",
       "      <td>11.0</td>\n",
       "      <td>34.0</td>\n",
       "      <td>0.9978</td>\n",
       "      <td>3.51</td>\n",
       "      <td>0.56</td>\n",
       "      <td>9.4</td>\n",
       "      <td>5</td>\n",
       "    </tr>\n",
       "    <tr>\n",
       "      <th>1</th>\n",
       "      <td>7.8</td>\n",
       "      <td>0.88</td>\n",
       "      <td>0.00</td>\n",
       "      <td>2.6</td>\n",
       "      <td>0.098</td>\n",
       "      <td>25.0</td>\n",
       "      <td>67.0</td>\n",
       "      <td>0.9968</td>\n",
       "      <td>3.20</td>\n",
       "      <td>0.68</td>\n",
       "      <td>9.8</td>\n",
       "      <td>5</td>\n",
       "    </tr>\n",
       "    <tr>\n",
       "      <th>2</th>\n",
       "      <td>7.8</td>\n",
       "      <td>0.76</td>\n",
       "      <td>0.04</td>\n",
       "      <td>2.3</td>\n",
       "      <td>0.092</td>\n",
       "      <td>15.0</td>\n",
       "      <td>54.0</td>\n",
       "      <td>0.9970</td>\n",
       "      <td>3.26</td>\n",
       "      <td>0.65</td>\n",
       "      <td>9.8</td>\n",
       "      <td>5</td>\n",
       "    </tr>\n",
       "    <tr>\n",
       "      <th>3</th>\n",
       "      <td>11.2</td>\n",
       "      <td>0.28</td>\n",
       "      <td>0.56</td>\n",
       "      <td>1.9</td>\n",
       "      <td>0.075</td>\n",
       "      <td>17.0</td>\n",
       "      <td>60.0</td>\n",
       "      <td>0.9980</td>\n",
       "      <td>3.16</td>\n",
       "      <td>0.58</td>\n",
       "      <td>9.8</td>\n",
       "      <td>6</td>\n",
       "    </tr>\n",
       "    <tr>\n",
       "      <th>4</th>\n",
       "      <td>7.4</td>\n",
       "      <td>0.70</td>\n",
       "      <td>0.00</td>\n",
       "      <td>1.9</td>\n",
       "      <td>0.076</td>\n",
       "      <td>11.0</td>\n",
       "      <td>34.0</td>\n",
       "      <td>0.9978</td>\n",
       "      <td>3.51</td>\n",
       "      <td>0.56</td>\n",
       "      <td>9.4</td>\n",
       "      <td>5</td>\n",
       "    </tr>\n",
       "  </tbody>\n",
       "</table>\n",
       "</div>"
      ],
      "text/plain": [
       "   fixed acidity  volatile acidity  citric acid  residual sugar  chlorides  \\\n",
       "0            7.4              0.70         0.00             1.9      0.076   \n",
       "1            7.8              0.88         0.00             2.6      0.098   \n",
       "2            7.8              0.76         0.04             2.3      0.092   \n",
       "3           11.2              0.28         0.56             1.9      0.075   \n",
       "4            7.4              0.70         0.00             1.9      0.076   \n",
       "\n",
       "   free sulfur dioxide  total sulfur dioxide  density    pH  sulphates  \\\n",
       "0                 11.0                  34.0   0.9978  3.51       0.56   \n",
       "1                 25.0                  67.0   0.9968  3.20       0.68   \n",
       "2                 15.0                  54.0   0.9970  3.26       0.65   \n",
       "3                 17.0                  60.0   0.9980  3.16       0.58   \n",
       "4                 11.0                  34.0   0.9978  3.51       0.56   \n",
       "\n",
       "   alcohol  quality  \n",
       "0      9.4        5  \n",
       "1      9.8        5  \n",
       "2      9.8        5  \n",
       "3      9.8        6  \n",
       "4      9.4        5  "
      ]
     },
     "execution_count": 3,
     "metadata": {},
     "output_type": "execute_result"
    }
   ],
   "source": [
    "WineData.head()"
   ]
  },
  {
   "cell_type": "code",
   "execution_count": 4,
   "metadata": {},
   "outputs": [],
   "source": [
    "x = WineData.iloc[:,0:12]\n",
    "y = WineData[\"quality\"]"
   ]
  },
  {
   "cell_type": "code",
   "execution_count": 5,
   "metadata": {},
   "outputs": [
    {
     "data": {
      "text/plain": [
       "fixed acidity           0\n",
       "volatile acidity        0\n",
       "citric acid             0\n",
       "residual sugar          0\n",
       "chlorides               0\n",
       "free sulfur dioxide     0\n",
       "total sulfur dioxide    0\n",
       "density                 0\n",
       "pH                      0\n",
       "sulphates               0\n",
       "alcohol                 0\n",
       "quality                 0\n",
       "dtype: int64"
      ]
     },
     "execution_count": 5,
     "metadata": {},
     "output_type": "execute_result"
    }
   ],
   "source": [
    "WineData.isna().sum()"
   ]
  },
  {
   "cell_type": "code",
   "execution_count": 6,
   "metadata": {},
   "outputs": [],
   "source": [
    "x = pd.DataFrame(x)"
   ]
  },
  {
   "cell_type": "code",
   "execution_count": 7,
   "metadata": {},
   "outputs": [],
   "source": [
    "from sklearn.ensemble import RandomForestClassifier"
   ]
  },
  {
   "cell_type": "code",
   "execution_count": 8,
   "metadata": {},
   "outputs": [],
   "source": [
    "from sklearn.model_selection import train_test_split\n",
    "X_train,X_test,y_train,y_test=train_test_split(x,y,test_size=0.3,random_state=18)"
   ]
  },
  {
   "cell_type": "code",
   "execution_count": 9,
   "metadata": {},
   "outputs": [],
   "source": [
    "model1 = RandomForestClassifier()"
   ]
  },
  {
   "cell_type": "code",
   "execution_count": 10,
   "metadata": {},
   "outputs": [
    {
     "data": {
      "text/plain": [
       "RandomForestClassifier()"
      ]
     },
     "execution_count": 10,
     "metadata": {},
     "output_type": "execute_result"
    }
   ],
   "source": [
    "model1.fit(X_train,y_train)"
   ]
  },
  {
   "cell_type": "code",
   "execution_count": 11,
   "metadata": {},
   "outputs": [
    {
     "data": {
      "text/plain": [
       "0.98125"
      ]
     },
     "execution_count": 11,
     "metadata": {},
     "output_type": "execute_result"
    }
   ],
   "source": [
    "model1.score(X_test,y_test)"
   ]
  },
  {
   "cell_type": "code",
   "execution_count": 12,
   "metadata": {},
   "outputs": [
    {
     "data": {
      "text/plain": [
       "array([4, 5, 5, 5, 7, 6, 5, 5, 5, 7, 5, 5, 6, 5, 6, 5, 6, 6, 5, 6, 6, 5,\n",
       "       5, 6, 7, 5, 7, 5, 6, 5, 6, 5, 5, 5, 7, 6, 6, 5, 7, 6, 6, 5, 5, 6,\n",
       "       5, 5, 7, 6, 5, 6, 5, 5, 6, 5, 5, 7, 5, 5, 7, 7, 5, 5, 7, 6, 6, 5,\n",
       "       7, 5, 6, 5, 6, 5, 5, 5, 6, 5, 5, 6, 7, 5, 7, 5, 6, 5, 5, 5, 5, 6,\n",
       "       7, 6, 5, 6, 5, 6, 6, 6, 7, 7, 6, 6, 5, 6, 5, 7, 5, 6, 5, 6, 5, 5,\n",
       "       6, 6, 6, 6, 7, 5, 6, 6, 6, 6, 5, 5, 6, 6, 5, 7, 6, 6, 7, 5, 5, 5,\n",
       "       6, 5, 5, 5, 7, 6, 6, 6, 6, 6, 7, 5, 6, 5, 5, 4, 6, 6, 5, 5, 5, 5,\n",
       "       4, 6, 7, 5, 6, 5, 6, 5, 6, 6, 5, 6, 6, 5, 5, 5, 7, 6, 5, 5, 5, 5,\n",
       "       6, 5, 7, 5, 6, 5, 6, 6, 7, 6, 5, 7, 6, 6, 5, 6, 6, 6, 6, 5, 6, 6,\n",
       "       5, 5, 7, 5, 4, 6, 6, 6, 5, 5, 6, 4, 6, 4, 5, 5, 6, 6, 5, 6, 6, 7,\n",
       "       6, 5, 6, 5, 6, 6, 6, 6, 7, 5, 6, 5, 6, 6, 5, 7, 5, 6, 5, 4, 5, 4,\n",
       "       7, 5, 5, 6, 6, 5, 6, 5, 6, 6, 5, 5, 6, 6, 6, 6, 6, 6, 6, 6, 5, 4,\n",
       "       5, 7, 6, 6, 5, 5, 5, 6, 4, 6, 7, 5, 5, 5, 6, 5, 6, 6, 6, 5, 5, 5,\n",
       "       6, 7, 5, 6, 6, 6, 6, 6, 6, 5, 5, 4, 5, 5, 6, 7, 6, 5, 6, 5, 5, 6,\n",
       "       5, 7, 7, 6, 5, 5, 6, 5, 7, 7, 7, 5, 6, 5, 7, 7, 5, 6, 5, 6, 6, 6,\n",
       "       5, 6, 5, 6, 5, 6, 5, 7, 6, 5, 5, 6, 7, 7, 5, 5, 6, 6, 7, 4, 5, 6,\n",
       "       5, 6, 5, 7, 5, 5, 6, 6, 5, 5, 6, 7, 5, 6, 7, 7, 6, 6, 6, 6, 6, 6,\n",
       "       7, 7, 6, 5, 6, 6, 7, 7, 4, 6, 4, 6, 5, 5, 7, 6, 6, 7, 6, 6, 7, 6,\n",
       "       5, 5, 5, 5, 6, 5, 4, 6, 6, 5, 6, 5, 6, 5, 7, 7, 6, 5, 4, 6, 5, 6,\n",
       "       6, 7, 5, 5, 5, 5, 6, 5, 5, 6, 6, 6, 6, 6, 6, 5, 5, 5, 6, 5, 7, 6,\n",
       "       5, 6, 6, 7, 5, 5, 7, 5, 5, 6, 7, 5, 6, 6, 5, 5, 5, 5, 5, 6, 6, 5,\n",
       "       5, 6, 5, 5, 6, 6, 6, 6, 6, 5, 5, 5, 5, 6, 5, 5, 6, 6], dtype=int64)"
      ]
     },
     "execution_count": 12,
     "metadata": {},
     "output_type": "execute_result"
    }
   ],
   "source": [
    "model1.predict(X_test)"
   ]
  },
  {
   "cell_type": "code",
   "execution_count": 13,
   "metadata": {},
   "outputs": [],
   "source": [
    "from sklearn.tree import DecisionTreeClassifier"
   ]
  },
  {
   "cell_type": "code",
   "execution_count": 14,
   "metadata": {},
   "outputs": [],
   "source": [
    "model2 =  DecisionTreeClassifier()"
   ]
  },
  {
   "cell_type": "code",
   "execution_count": 15,
   "metadata": {},
   "outputs": [
    {
     "data": {
      "text/plain": [
       "DecisionTreeClassifier()"
      ]
     },
     "execution_count": 15,
     "metadata": {},
     "output_type": "execute_result"
    }
   ],
   "source": [
    "model2.fit(X_train,y_train)"
   ]
  },
  {
   "cell_type": "code",
   "execution_count": 16,
   "metadata": {},
   "outputs": [
    {
     "data": {
      "text/plain": [
       "1.0"
      ]
     },
     "execution_count": 16,
     "metadata": {},
     "output_type": "execute_result"
    }
   ],
   "source": [
    "model2.score(X_test,y_test)"
   ]
  },
  {
   "cell_type": "code",
   "execution_count": 17,
   "metadata": {},
   "outputs": [
    {
     "data": {
      "text/plain": [
       "array([4, 5, 5, 5, 7, 6, 5, 5, 5, 7, 5, 5, 6, 5, 6, 5, 6, 6, 4, 6, 6, 5,\n",
       "       5, 6, 8, 5, 7, 5, 6, 5, 6, 5, 5, 5, 7, 6, 6, 5, 7, 6, 6, 5, 5, 6,\n",
       "       5, 5, 7, 6, 5, 6, 5, 5, 6, 5, 5, 7, 5, 5, 7, 7, 5, 5, 7, 6, 6, 5,\n",
       "       7, 5, 6, 5, 6, 5, 5, 5, 6, 5, 5, 6, 7, 5, 7, 5, 6, 5, 5, 5, 5, 6,\n",
       "       7, 6, 5, 6, 5, 6, 6, 6, 7, 7, 6, 6, 5, 6, 5, 7, 5, 6, 5, 6, 5, 5,\n",
       "       6, 6, 6, 6, 7, 5, 6, 6, 6, 6, 5, 5, 6, 6, 5, 7, 6, 6, 7, 5, 5, 5,\n",
       "       6, 5, 5, 5, 7, 6, 6, 6, 6, 6, 7, 5, 6, 5, 5, 4, 6, 6, 5, 5, 5, 5,\n",
       "       3, 6, 7, 5, 6, 5, 6, 5, 6, 6, 5, 6, 6, 5, 5, 5, 7, 6, 5, 5, 5, 5,\n",
       "       6, 5, 7, 5, 6, 5, 6, 6, 7, 6, 5, 7, 6, 6, 5, 6, 6, 6, 6, 5, 6, 6,\n",
       "       5, 5, 7, 5, 4, 6, 6, 6, 5, 5, 6, 4, 6, 4, 5, 5, 6, 6, 5, 6, 6, 7,\n",
       "       6, 5, 6, 5, 6, 6, 6, 6, 7, 5, 6, 5, 6, 6, 5, 7, 5, 6, 5, 4, 5, 4,\n",
       "       7, 5, 5, 6, 6, 4, 6, 5, 6, 6, 5, 5, 6, 6, 6, 6, 6, 6, 6, 6, 5, 4,\n",
       "       5, 7, 6, 6, 5, 5, 5, 6, 3, 6, 7, 5, 5, 5, 6, 5, 6, 6, 6, 5, 5, 5,\n",
       "       6, 7, 5, 6, 6, 6, 6, 6, 6, 5, 5, 4, 5, 5, 6, 7, 6, 5, 6, 5, 5, 6,\n",
       "       5, 7, 7, 6, 5, 5, 6, 5, 7, 7, 7, 5, 6, 5, 7, 7, 5, 6, 5, 6, 6, 6,\n",
       "       5, 6, 5, 6, 5, 6, 5, 7, 6, 4, 5, 6, 7, 7, 5, 5, 6, 6, 7, 3, 5, 6,\n",
       "       5, 6, 5, 7, 5, 5, 6, 6, 5, 5, 6, 7, 5, 6, 7, 7, 6, 6, 6, 6, 6, 6,\n",
       "       7, 7, 6, 5, 6, 6, 7, 7, 4, 6, 4, 6, 5, 5, 7, 6, 6, 7, 6, 6, 8, 6,\n",
       "       5, 5, 5, 5, 6, 5, 4, 6, 6, 5, 6, 5, 6, 5, 7, 7, 6, 5, 4, 6, 5, 6,\n",
       "       6, 7, 5, 5, 5, 5, 6, 5, 5, 6, 6, 6, 6, 6, 6, 5, 4, 5, 6, 5, 7, 6,\n",
       "       5, 6, 6, 7, 5, 5, 7, 5, 5, 6, 7, 5, 6, 6, 5, 5, 5, 5, 5, 6, 6, 5,\n",
       "       5, 6, 5, 5, 6, 6, 6, 6, 6, 5, 5, 5, 5, 6, 5, 5, 6, 6], dtype=int64)"
      ]
     },
     "execution_count": 17,
     "metadata": {},
     "output_type": "execute_result"
    }
   ],
   "source": [
    "model2.predict(X_test)"
   ]
  },
  {
   "cell_type": "code",
   "execution_count": 18,
   "metadata": {},
   "outputs": [],
   "source": [
    "from sklearn.neighbors import KNeighborsClassifier"
   ]
  },
  {
   "cell_type": "code",
   "execution_count": 19,
   "metadata": {},
   "outputs": [],
   "source": [
    "model3 = KNeighborsClassifier()"
   ]
  },
  {
   "cell_type": "code",
   "execution_count": 20,
   "metadata": {},
   "outputs": [
    {
     "data": {
      "text/plain": [
       "KNeighborsClassifier()"
      ]
     },
     "execution_count": 20,
     "metadata": {},
     "output_type": "execute_result"
    }
   ],
   "source": [
    "model3.fit(X_train,y_train)"
   ]
  },
  {
   "cell_type": "code",
   "execution_count": 21,
   "metadata": {},
   "outputs": [
    {
     "data": {
      "text/plain": [
       "0.6041666666666666"
      ]
     },
     "execution_count": 21,
     "metadata": {},
     "output_type": "execute_result"
    }
   ],
   "source": [
    "model3.score(X_test,y_test)"
   ]
  },
  {
   "cell_type": "code",
   "execution_count": 22,
   "metadata": {},
   "outputs": [
    {
     "data": {
      "text/plain": [
       "array([5, 5, 6, 6, 6, 5, 5, 5, 5, 7, 5, 5, 5, 6, 6, 5, 6, 6, 5, 6, 6, 5,\n",
       "       5, 6, 7, 5, 7, 6, 5, 6, 6, 5, 6, 5, 7, 6, 5, 5, 5, 5, 6, 5, 5, 5,\n",
       "       5, 5, 6, 6, 5, 5, 5, 5, 6, 5, 5, 7, 5, 6, 6, 5, 5, 5, 6, 6, 6, 6,\n",
       "       5, 6, 6, 5, 5, 6, 5, 5, 6, 5, 5, 6, 6, 5, 6, 5, 6, 6, 6, 5, 5, 5,\n",
       "       6, 5, 5, 6, 6, 6, 5, 6, 7, 7, 6, 6, 6, 5, 5, 6, 5, 5, 5, 5, 6, 5,\n",
       "       5, 5, 6, 5, 6, 5, 5, 6, 6, 6, 6, 5, 5, 5, 6, 6, 5, 5, 6, 6, 6, 5,\n",
       "       6, 5, 5, 4, 6, 6, 6, 6, 6, 6, 6, 5, 7, 6, 5, 4, 5, 5, 5, 5, 6, 5,\n",
       "       5, 5, 7, 5, 6, 5, 6, 5, 6, 5, 6, 5, 5, 6, 5, 5, 7, 6, 5, 5, 5, 5,\n",
       "       5, 6, 7, 5, 6, 5, 5, 6, 5, 6, 5, 6, 5, 6, 5, 6, 5, 6, 6, 5, 6, 5,\n",
       "       5, 5, 5, 6, 6, 6, 6, 6, 5, 5, 6, 5, 7, 5, 5, 5, 6, 5, 6, 6, 6, 7,\n",
       "       6, 5, 6, 5, 6, 5, 5, 5, 6, 5, 5, 6, 6, 5, 5, 7, 6, 6, 6, 5, 6, 6,\n",
       "       6, 5, 5, 5, 6, 5, 5, 5, 6, 5, 5, 5, 6, 6, 5, 6, 6, 6, 6, 7, 5, 5,\n",
       "       5, 6, 5, 6, 5, 5, 5, 6, 4, 6, 7, 5, 5, 6, 6, 5, 6, 6, 5, 5, 5, 5,\n",
       "       6, 7, 5, 5, 5, 6, 7, 6, 5, 5, 5, 5, 5, 5, 6, 7, 6, 5, 6, 5, 5, 5,\n",
       "       5, 7, 6, 5, 6, 5, 5, 5, 7, 6, 6, 5, 6, 6, 5, 6, 5, 5, 6, 5, 6, 6,\n",
       "       6, 6, 5, 5, 5, 5, 5, 5, 6, 6, 5, 5, 7, 7, 5, 6, 6, 6, 6, 6, 6, 6,\n",
       "       6, 5, 6, 7, 6, 5, 6, 6, 5, 5, 6, 7, 5, 5, 6, 6, 6, 6, 6, 5, 6, 6,\n",
       "       6, 6, 6, 5, 5, 6, 6, 6, 5, 6, 5, 6, 5, 5, 6, 5, 6, 6, 6, 5, 6, 6,\n",
       "       5, 5, 5, 5, 6, 6, 6, 5, 5, 5, 6, 6, 7, 5, 7, 6, 6, 5, 6, 6, 5, 5,\n",
       "       6, 7, 5, 5, 6, 5, 5, 5, 6, 6, 6, 5, 5, 6, 6, 5, 5, 5, 6, 6, 7, 5,\n",
       "       6, 5, 6, 6, 5, 5, 5, 5, 5, 6, 7, 5, 6, 5, 5, 5, 5, 5, 6, 6, 6, 5,\n",
       "       5, 5, 5, 5, 6, 5, 6, 5, 6, 5, 5, 5, 5, 6, 5, 6, 5, 6], dtype=int64)"
      ]
     },
     "execution_count": 22,
     "metadata": {},
     "output_type": "execute_result"
    }
   ],
   "source": [
    "model3.predict(X_test)"
   ]
  }
 ],
 "metadata": {
  "kernelspec": {
   "display_name": "Python 3",
   "language": "python",
   "name": "python3"
  },
  "language_info": {
   "codemirror_mode": {
    "name": "ipython",
    "version": 3
   },
   "file_extension": ".py",
   "mimetype": "text/x-python",
   "name": "python",
   "nbconvert_exporter": "python",
   "pygments_lexer": "ipython3",
   "version": "3.8.3"
  }
 },
 "nbformat": 4,
 "nbformat_minor": 4
}
